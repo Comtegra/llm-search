{
 "cells": [
  {
   "cell_type": "code",
   "execution_count": null,
   "metadata": {},
   "outputs": [],
   "source": [
    "!python -m pip install --upgrade pip\n",
    "!curl -fsSL https://ollama.com/install.sh | sh\n",
    "!pip install streamlit\n",
    "!pip install google\n",
    "!pip install beautifulsoup4\n",
    "!pip install googlesearch-python\n",
    "!pip install langdetect\n",
    "!pip install ollama\n",
    "!pip install llama-cpp-python\n",
    "!pip install streamlit-authenticator\n",
    "!apt-get update\n",
    "!apt-get install build-essential libpoppler-cpp-dev pkg-config python3-dev -y\n",
    "!pip install pdftotext"
   ]
  },
  {
   "cell_type": "code",
   "execution_count": null,
   "metadata": {},
   "outputs": [],
   "source": [
    "from streamlit_authenticator.utilities.hasher import Hasher\n",
    "Hasher(['test']).generate()"
   ]
  }
 ],
 "metadata": {
  "kernelspec": {
   "display_name": "Python 3",
   "language": "python",
   "name": "python3"
  },
  "language_info": {
   "codemirror_mode": {
    "name": "ipython",
    "version": 3
   },
   "file_extension": ".py",
   "mimetype": "text/x-python",
   "name": "python",
   "nbconvert_exporter": "python",
   "pygments_lexer": "ipython3",
   "version": "3.12.3"
  }
 },
 "nbformat": 4,
 "nbformat_minor": 2
}
